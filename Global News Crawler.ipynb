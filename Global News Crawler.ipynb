{
 "cells": [
  {
   "cell_type": "code",
   "execution_count": 1,
   "id": "43a19d60",
   "metadata": {
    "scrolled": true
   },
   "outputs": [
    {
     "name": "stdout",
     "output_type": "stream",
     "text": [
      "Defaulting to user installation because normal site-packages is not writeable\n",
      "Requirement already satisfied: newspaper3k in c:\\users\\ivy.chen\\appdata\\roaming\\python\\python39\\site-packages (0.2.8)\n",
      "Requirement already satisfied: cssselect>=0.9.2 in c:\\programdata\\anaconda3\\lib\\site-packages (from newspaper3k) (1.1.0)\n",
      "Requirement already satisfied: PyYAML>=3.11 in c:\\programdata\\anaconda3\\lib\\site-packages (from newspaper3k) (6.0)\n",
      "Requirement already satisfied: nltk>=3.2.1 in c:\\programdata\\anaconda3\\lib\\site-packages (from newspaper3k) (3.7)\n",
      "Requirement already satisfied: feedfinder2>=0.0.4 in c:\\users\\ivy.chen\\appdata\\roaming\\python\\python39\\site-packages (from newspaper3k) (0.0.4)\n",
      "Requirement already satisfied: jieba3k>=0.35.1 in c:\\users\\ivy.chen\\appdata\\roaming\\python\\python39\\site-packages (from newspaper3k) (0.35.1)\n",
      "Requirement already satisfied: python-dateutil>=2.5.3 in c:\\programdata\\anaconda3\\lib\\site-packages (from newspaper3k) (2.8.2)\n",
      "Requirement already satisfied: feedparser>=5.2.1 in c:\\users\\ivy.chen\\appdata\\roaming\\python\\python39\\site-packages (from newspaper3k) (6.0.10)\n",
      "Requirement already satisfied: Pillow>=3.3.0 in c:\\programdata\\anaconda3\\lib\\site-packages (from newspaper3k) (9.0.1)\n",
      "Requirement already satisfied: tinysegmenter==0.3 in c:\\users\\ivy.chen\\appdata\\roaming\\python\\python39\\site-packages (from newspaper3k) (0.3)\n",
      "Requirement already satisfied: tldextract>=2.0.1 in c:\\programdata\\anaconda3\\lib\\site-packages (from newspaper3k) (3.2.0)\n",
      "Requirement already satisfied: requests>=2.10.0 in c:\\programdata\\anaconda3\\lib\\site-packages (from newspaper3k) (2.27.1)\n",
      "Requirement already satisfied: lxml>=3.6.0 in c:\\programdata\\anaconda3\\lib\\site-packages (from newspaper3k) (4.8.0)\n",
      "Requirement already satisfied: beautifulsoup4>=4.4.1 in c:\\programdata\\anaconda3\\lib\\site-packages (from newspaper3k) (4.11.1)\n",
      "Requirement already satisfied: soupsieve>1.2 in c:\\programdata\\anaconda3\\lib\\site-packages (from beautifulsoup4>=4.4.1->newspaper3k) (2.3.1)\n",
      "Requirement already satisfied: six in c:\\programdata\\anaconda3\\lib\\site-packages (from feedfinder2>=0.0.4->newspaper3k) (1.16.0)\n",
      "Requirement already satisfied: sgmllib3k in c:\\users\\ivy.chen\\appdata\\roaming\\python\\python39\\site-packages (from feedparser>=5.2.1->newspaper3k) (1.0.0)\n",
      "Requirement already satisfied: regex>=2021.8.3 in c:\\programdata\\anaconda3\\lib\\site-packages (from nltk>=3.2.1->newspaper3k) (2022.3.15)\n",
      "Requirement already satisfied: joblib in c:\\programdata\\anaconda3\\lib\\site-packages (from nltk>=3.2.1->newspaper3k) (1.1.0)\n",
      "Requirement already satisfied: tqdm in c:\\programdata\\anaconda3\\lib\\site-packages (from nltk>=3.2.1->newspaper3k) (4.64.0)\n",
      "Requirement already satisfied: click in c:\\programdata\\anaconda3\\lib\\site-packages (from nltk>=3.2.1->newspaper3k) (8.0.4)\n",
      "Requirement already satisfied: urllib3<1.27,>=1.21.1 in c:\\programdata\\anaconda3\\lib\\site-packages (from requests>=2.10.0->newspaper3k) (1.26.9)\n",
      "Requirement already satisfied: idna<4,>=2.5 in c:\\programdata\\anaconda3\\lib\\site-packages (from requests>=2.10.0->newspaper3k) (3.3)\n",
      "Requirement already satisfied: charset-normalizer~=2.0.0 in c:\\programdata\\anaconda3\\lib\\site-packages (from requests>=2.10.0->newspaper3k) (2.0.4)\n",
      "Requirement already satisfied: certifi>=2017.4.17 in c:\\programdata\\anaconda3\\lib\\site-packages (from requests>=2.10.0->newspaper3k) (2021.10.8)\n",
      "Requirement already satisfied: filelock>=3.0.8 in c:\\programdata\\anaconda3\\lib\\site-packages (from tldextract>=2.0.1->newspaper3k) (3.6.0)\n",
      "Requirement already satisfied: requests-file>=1.4 in c:\\programdata\\anaconda3\\lib\\site-packages (from tldextract>=2.0.1->newspaper3k) (1.5.1)\n",
      "Requirement already satisfied: colorama in c:\\programdata\\anaconda3\\lib\\site-packages (from click->nltk>=3.2.1->newspaper3k) (0.4.4)\n"
     ]
    }
   ],
   "source": [
    "!pip install newspaper3k"
   ]
  },
  {
   "cell_type": "code",
   "execution_count": 10,
   "id": "a67f5df8",
   "metadata": {},
   "outputs": [
    {
     "name": "stdout",
     "output_type": "stream",
     "text": [
      " Link: \n",
      "1 https://abcnews.go.com/GMA/Wellness/nba-stars-teammates-spark-mental-health-discussions/story?id=96109550\n",
      "2 https://abcnews.go.com/live/video/special-live-06\n",
      "3 https://abcnews.go.com/live/video/special-live-1\n",
      "4 https://abcnews.go.com/US/video/location-january-5-2023-71045364\n",
      "5 https://abcnews.go.com/International/wireStory/germany-draw-legislation-enable-carbon-storage-96235931\n",
      "6 https://abcnews.go.com/Sports/jake-paul-signing-pfl-influencer-makes-move-mma/story?id=96231787\n",
      "7 https://abcnews.go.com/Sports/zach-lavine-bulls-snap-nets-12-game-streak/story?id=96231783\n",
      "8 https://abcnews.go.com/Business/causing-flights-meltdown-southwest-airlines/story?id=95888949\n",
      "9 https://abcnews.go.com/Business/wireStory/mortgage-rates-rise-led-wide-gap-us-bond-95938773\n",
      "10 https://abcnews.go.com/Business/federal-reserve-approves-05-hike-slowing-rate-increases/story?id=95066538\n",
      "11 https://abcnews.go.com/Business/wireStory/germany-draw-legislation-enable-carbon-storage-96235950\n"
     ]
    }
   ],
   "source": [
    "import newspaper\n",
    "\n",
    "newspaper.popular_urls()\n",
    "\n",
    "paper = newspaper.build('https://abcnews.go.com/', language='en', max_results = 10)\n",
    "print(' Link: ')\n",
    "\n",
    "for i, article in enumerate(paper.articles):\n",
    "    print(i+1, article.url)"
   ]
  },
  {
   "cell_type": "code",
   "execution_count": 3,
   "id": "4fafe2e2",
   "metadata": {},
   "outputs": [
    {
     "name": "stdout",
     "output_type": "stream",
     "text": [
      "CNN —\n",
      "\n",
      "Apple is raising the price of battery replacements for all out-of-warranty iPhone models prior to the current iPhone 14 lineup, the company confirmed on its website.\n",
      "\n",
      "Starting March 1, Apple (AAPL) will charge $89 for battery replacements for iPhone X through iPhone 13 models, a $20 increase from the current price of a new battery. Battery replacements for other models, such as the iPhone SE and iPhone 8, will jump from $49 to $69.\n",
      "\n",
      "Apple is also raising the cost of replacing batteries for other products. Batteries for newer iPad models will cost $20 more, while it will cost $30 more for a new MacBook Air battery and $50 more for MacBook Pro models.\n",
      "\n",
      "Apple devices typically come with one year of warranty. The changes only apply to customers who are not part of its AppleCare+ repair service program, which provides up to two or three years of coverage and varies in cost depending on product.\n",
      "\n",
      "Apple first lowered the price of iPhone battery replacements from $79 to $29 in 2018, after it was discovered that the company deliberately slowed down the performance of older iPhones to prevent sudden battery shutdowns. In response to the controversy, dubbed batterygate, Apple also issued a rare apology and agreed to a $113 million settlement with dozens of states.\n",
      "\n",
      "In raising prices now, Apple may be responding to an uptick in the cost of products amid rising inflation and supply chain issues. By taking this step, Apple could also make it less attractive for customers to delay upgrading their devices or drive them to pay for the repair service program.\n",
      "\n",
      "The news comes as Apple’s market cap fell below $2 trillion in trading on Tuesday for the first time since early 2021 and one year to the day after the company became the first public tech company valued at $3 trillion.\n",
      "\n",
      "Like other tech companies, Apple has grappled with supply chain hiccups and concerns that recession fears could weigh on advertiser and consumer spending, including for pricier products like the iPhone.\n"
     ]
    }
   ],
   "source": [
    "import newspaper\n",
    "\n",
    "from newspaper import Article\n",
    "from newspaper import fulltext\n",
    "url = 'https://edition.cnn.com/2023/01/04/tech/apple-battery-replacement-cost-increase'\n",
    "\n",
    "article = Article(url)\n",
    "\n",
    "article.download()\n",
    "\n",
    "print(fulltext(article.html))\n"
   ]
  },
  {
   "cell_type": "code",
   "execution_count": null,
   "id": "78b5cb90",
   "metadata": {},
   "outputs": [],
   "source": []
  }
 ],
 "metadata": {
  "kernelspec": {
   "display_name": "Python 3 (ipykernel)",
   "language": "python",
   "name": "python3"
  },
  "language_info": {
   "codemirror_mode": {
    "name": "ipython",
    "version": 3
   },
   "file_extension": ".py",
   "mimetype": "text/x-python",
   "name": "python",
   "nbconvert_exporter": "python",
   "pygments_lexer": "ipython3",
   "version": "3.9.12"
  }
 },
 "nbformat": 4,
 "nbformat_minor": 5
}
